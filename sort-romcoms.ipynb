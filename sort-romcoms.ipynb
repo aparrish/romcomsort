{
 "cells": [
  {
   "cell_type": "markdown",
   "metadata": {},
   "source": [
    "# When Harry Met Sally Sam Sammy Samuel Sandie Sandra Sandy Sara Sarah Sascha...\n",
    "\n",
    "By [Allison Parrish](https://www.decontextualize.com/)\n",
    "\n",
    "Quick project to get the juices flowing for [NaNoGenMo 2019](https://nanogenmo.github.io/). Using [this notebook](https://github.com/aparrish/corpus-driven-narrative-generation/blob/master/creating-a-wikiplots-subcorpus.ipynb), I created a text file with many thousands of sentences from plot summaries of romantic comedies on Wikipedia. (Thank you [WikiPlots](https://github.com/markriedl/WikiPlots) for making it fast and easy to construct this corpus!) In an effort to better understand the structure of the romantic comedy, I decided to introduce my own structure, i.e., sorting the sentences alphabetically, just to see what would happen. This is the result!\n",
    "\n",
    "First, open the plain text romantic comedy sentence corpus and make a list from the lines:"
   ]
  },
  {
   "cell_type": "code",
   "execution_count": 18,
   "metadata": {},
   "outputs": [],
   "source": [
    "lines = open(\"./romcom_export.txt\", encoding='utf8').read().split(\"\\n\")"
   ]
  },
  {
   "cell_type": "markdown",
   "metadata": {},
   "source": [
    "Couple of things we need from the standard library:"
   ]
  },
  {
   "cell_type": "code",
   "execution_count": 101,
   "metadata": {},
   "outputs": [],
   "source": [
    "import re, textwrap, random"
   ]
  },
  {
   "cell_type": "markdown",
   "metadata": {},
   "source": [
    "To try to ensure we're only getting whole sentences and not weird fragments leftover from errors in the sentence parsing process, only use lines that begin with a capital letter. This cell also sorts the lines alphabetically."
   ]
  },
  {
   "cell_type": "code",
   "execution_count": 48,
   "metadata": {},
   "outputs": [],
   "source": [
    "caps_filtered = sorted([line for line in lines if re.search(r\"^[A-Z]\", line)])"
   ]
  },
  {
   "cell_type": "markdown",
   "metadata": {},
   "source": [
    "Get a random snippet to see if it works:"
   ]
  },
  {
   "cell_type": "code",
   "execution_count": 106,
   "metadata": {},
   "outputs": [
    {
     "name": "stdout",
     "output_type": "stream",
     "text": [
      "Trip emphasizes how he dumped his girlfriend in the same fashion that Mike did to score with women and was unsuccessful. Tripp (Matthew McConaughey), a 35-year-old man, is still living with his parents Al (Terry Bradshaw) and Sue (Kathy Bates), in Baltimore. Tripp angrily confronts his parents, and breaks up with Paula. Tripp's best friends Demo (Bradley Cooper) and Ace (Justin Bartha) are also still living in their parents' homes and seem proud of it. Tripp's parents and friends devise a plan to reconcile the two lovers. Trish rushes to him in concern, and he finally confesses to her that he is a virgin. Trish's jealous TV-star husband crashes the wedding and gets into a fight with Ulysses. Trouble develops. Trouble is, Tod's been romantically involved with Betty Gilbert, a nightclub singer, while Gert's gotten engaged to Tod's football rival, Andy Mason. Troy Bolton is still dating Gabriella Montez, who decides to stay in Albuquerque with her mother. Troy agrees to sing with his friends in the show (\"You Are The Music In Me\"), not knowing that Sharpay is vying for his attention. Troy and Gabriella appear during the second half of the show and sing their duet together. Troy and Gabriella both win their respective competitions and the entire school gathers in the gym to celebrate (\"We're All In This Together\"). Troy and Gabriella rush to help her, and they sing together as Kelsi plays piano (\"What I've Been Looking For (Reprise)\"). Troy and Gabriella rush to the auditorium, and Sharpay and Ryan finish performing their song (\"Bop to the Top\"), confident that their plan worked. Troy and Gabriella's relationship is strained when Troy sees Ryan with Gabriella, sparking jealousy. Troy and Lelaina reunite and make amends after Troy returns from his father's funeral in Chicago. Troy arrives at Mike's apartment after finding out Mike got him his police job. Troy befriends and confides in them that he has slept with both women and men, but is reluctant to embrace any gay feelings. Troy continues to worry about funding for college. Troy eventually decides to look for a summer job to gain money for college. Troy eventually succumbs to Marc's advances during Gwen's homoerotic photo shoot, and the two fool around, but Marc cannot go through with it because he still has feelings for Kyle. Troy goes to Gabriella's house and they reconcile. Troy is confused because he did not apply to Juilliard.\n"
     ]
    }
   ],
   "source": [
    "snippet_len = 24\n",
    "start = random.randrange(len(caps_filtered) - snippet_len)\n",
    "print(' '.join(caps_filtered[start:start+snippet_len]))"
   ]
  },
  {
   "cell_type": "markdown",
   "metadata": {},
   "source": [
    "I produce two outputs. First, the plain text output, wrapped at 65 characters:"
   ]
  },
  {
   "cell_type": "code",
   "execution_count": 107,
   "metadata": {},
   "outputs": [],
   "source": [
    "with open(\"output.txt\", \"w\") as fh:\n",
    "    fh.write(textwrap.fill(' '.join(caps_filtered), 65))"
   ]
  },
  {
   "cell_type": "markdown",
   "metadata": {},
   "source": [
    "And then a more nicely typeset version in LaTeX. The function below does some simple LaTeX special character escaping:"
   ]
  },
  {
   "cell_type": "code",
   "execution_count": 108,
   "metadata": {},
   "outputs": [],
   "source": [
    "# from https://stackoverflow.com/a/25875504\n",
    "def tex_escape(text):\n",
    "    conv = {\n",
    "        '&': r'\\&',\n",
    "        '%': r'\\%',\n",
    "        '$': r'\\$',\n",
    "        '#': r'\\#',\n",
    "        '_': r'\\_',\n",
    "        '{': r'\\{',\n",
    "        '}': r'\\}',\n",
    "        '~': r'\\textasciitilde{}',\n",
    "        '^': r'\\^{}',\n",
    "        '\\\\': r'\\textbackslash{}',\n",
    "        '<': r'\\textless{}',\n",
    "        '>': r'\\textgreater{}',\n",
    "        \"'\": r'\\textquotesingle{}',\n",
    "        '\"': r'\\textquotedbl{}',\n",
    "    }\n",
    "    regex = re.compile('|'.join(re.escape(key) for key in sorted(conv.keys(), key=lambda item: -len(item))))\n",
    "    return regex.sub(lambda match: conv[match.group()], text)"
   ]
  },
  {
   "cell_type": "code",
   "execution_count": 124,
   "metadata": {},
   "outputs": [],
   "source": [
    "book_latex = r\"\"\"\n",
    "\\documentclass[10pt,twoside,openright]{memoir}\n",
    "\\usepackage[paperwidth=6in, paperheight=9in, bindingoffset=1in]{geometry}\n",
    "\\usepackage[T1]{fontenc}\n",
    "\\usepackage[utf8]{inputenc}\n",
    "\\usepackage{tgpagella}\n",
    "\\usepackage{textcomp}\n",
    "\n",
    "\\usepackage[protrusion=true,expansion=true]{microtype}\n",
    "\n",
    "\\makeatletter\n",
    "\\def\\maketitle{%\n",
    "  \\null\n",
    "  \\thispagestyle{empty}%\n",
    "  \\vfill\n",
    "  \\begin{center}\\leavevmode\n",
    "    \\normalfont\n",
    "    {\\LARGE\\raggedleft \\@author\\par}%\n",
    "    \\vskip 1cm\n",
    "    {\\huge\\raggedleft \\@title\\par}%\n",
    "    \\vskip 1cm\n",
    "  \\end{center}%\n",
    "  \\vfill\n",
    "  \\null\n",
    "  \\cleardoublepage\n",
    "  }\n",
    "\\makeatother\n",
    "\\author{Allison Parrish}\n",
    "\\title{When Harry Met Sally Sam Sammy Samuel Sandie Sandra Sandy Sara Sarah Sascha...}\n",
    "\\date{}\n",
    "\n",
    "\n",
    "\\begin{document}\n",
    "\n",
    "\\let\\cleardoublepage\\clearpage\n",
    "\n",
    "\\maketitle\n",
    "\n",
    "\\frontmatter\n",
    "\n",
    "\\null\\vfill\n",
    "\n",
    "\\begin{flushleft}\n",
    "\\textit{When Harry Met Sally Sam Sammy Samuel Sandie Sandra Sandy Sara Sarah Sascha...}\n",
    "\n",
    "\\abnormalparskip{10pt}\n",
    "Text in this book was taken from plot summaries of romantic comedies on Wikipedia.\n",
    "\n",
    "This work is licensed under Creative Commons Attribution-ShareAlike 3.0 Unported (CC BY-SA 3.0).\n",
    "\n",
    "A human-readable summary follows, which is not a substitute for the license itself.\n",
    "\n",
    "You are free to copy and redistribute the material in any medium or format; and to remix,\n",
    "transform, and build upon the material for any purpose, even commercially. The licensor cannot\n",
    "revoke these freedoms as long as you follow the license terms.\n",
    "\n",
    "The following terms apply: You must give appropriate credit, provide a link to the license,\n",
    "and indicate if changes were made. You may do so in any reasonable manner, but not in any\n",
    "way that suggests the licensor endorses you or your use. If you remix, transform, or build\n",
    "upon the material, you must distribute your contributions under the same license as the\n",
    "original. You may not apply legal terms or technological measures that legally restrict others\n",
    "from doing anything the license permits.\n",
    "\n",
    "https://creativecommons.org/licenses/by-sa/3.0/\n",
    "\\traditionalparskip\n",
    "\\end{flushleft}\n",
    "\n",
    "\\let\\cleardoublepage\\clearpage\n",
    "\n",
    "\\mainmatter\n",
    "\\sloppy\n",
    "\n",
    "##replaceme##\n",
    "\n",
    "\\end{document}\n",
    "\"\"\".replace(\"##replaceme##\", tex_escape(textwrap.fill(' '.join(caps_filtered), 80)))"
   ]
  },
  {
   "cell_type": "code",
   "execution_count": 125,
   "metadata": {},
   "outputs": [],
   "source": [
    "with open(\"output.tex\", \"w\") as fh:\n",
    "    fh.write(book_latex)"
   ]
  },
  {
   "cell_type": "markdown",
   "metadata": {},
   "source": [
    "You can then use a LaTeX processor to create a PDF from the LaTeX source. (I had to use `lualatex` because the file was too big for `pdflatex`—over 1500 pages!)"
   ]
  }
 ],
 "metadata": {
  "kernelspec": {
   "display_name": "Python 3",
   "language": "python",
   "name": "python3"
  },
  "language_info": {
   "codemirror_mode": {
    "name": "ipython",
    "version": 3
   },
   "file_extension": ".py",
   "mimetype": "text/x-python",
   "name": "python",
   "nbconvert_exporter": "python",
   "pygments_lexer": "ipython3",
   "version": "3.6.8"
  }
 },
 "nbformat": 4,
 "nbformat_minor": 2
}
